{
 "cells": [
  {
   "cell_type": "code",
   "execution_count": 4,
   "metadata": {},
   "outputs": [],
   "source": [
    "from skimage.feature import hog\n",
    "from skimage.transform import pyramid_gaussian\n",
    "import joblib\n",
    "from skimage import color\n",
    "from imutils.object_detection import non_max_suppression\n",
    "import imutils\n",
    "import numpy as np\n",
    "import cv2\n",
    "import os\n",
    "import glob\n",
    "from PIL import Image"
   ]
  },
  {
   "cell_type": "code",
   "execution_count": 5,
   "metadata": {},
   "outputs": [
    {
     "name": "stdout",
     "output_type": "stream",
     "text": [
      "SVC(max_iter=1000)\n"
     ]
    }
   ],
   "source": [
    "### load trained model\n",
    "model_path = '/media/dtu-project2/2GB_HDD/Detection_HOG_SVM/model_name.npy'\n",
    "model = joblib.load(model_path)\n",
    "print(model)"
   ]
  },
  {
   "cell_type": "code",
   "execution_count": 6,
   "metadata": {},
   "outputs": [],
   "source": [
    "# define the sliding window:\n",
    "def sliding_window(image, stepSize, windowSize):\n",
    "    for y in range(0, image.shape[0], stepSize[0]):\n",
    "        for x in range(0, image.shape[1], stepSize[1]):\n",
    "            # yield the current window\n",
    "            yield (x, y, image[y: y + windowSize[1], x:x + windowSize[0]])"
   ]
  },
  {
   "cell_type": "code",
   "execution_count": 7,
   "metadata": {},
   "outputs": [],
   "source": [
    "\n",
    "\n",
    "def get_detection_boxes_image_pyramid(image, downscale, window_size, stride_slide_win, scale=0):\n",
    "    [winH, winW] = window_size\n",
    "    count_hog = 0\n",
    "    for resized in pyramid_gaussian(image, downscale=downscale, max_layer = 4): \n",
    "        for (x,y,window) in sliding_window(resized, stepSize=stride_slide_win, windowSize=window_size):\n",
    "            count_hog += 1\n",
    "            #print(count_hog)\n",
    "            if window.shape[0] != winH or window.shape[1] !=winW: # ensure the sliding window has met \n",
    "                continue\n",
    "\n",
    "            #st_time = time.time()\n",
    "            fds = hog(window, orientations, pixels_per_cell, cells_per_block, block_norm='L2')\n",
    "            #print(time.time()-st_time)\n",
    "\n",
    "            fds = fds.reshape(1, -1) # re shape the image to make a silouhette of hog\n",
    "            pred = model.predict(fds) \n",
    "            \n",
    "            if pred == 1:\n",
    "                if model.decision_function(fds) > 0.5:\n",
    "                    #print(int(x * (downscale**scale)), int(y * (downscale**scale)))\n",
    "                    #print(\"Detection:: Location -> ({}, {})\".format(x, y))\n",
    "                    #print(\"Scale ->  {} | Confidence Score {} \\n\".format(scale,model.decision_function(fds)))\n",
    "                    detections.append((int(x * (downscale**scale)), int(y * (downscale**scale)), model.decision_function(fds),\n",
    "                                    int(windowSize[0]*(downscale**scale)), # create a list of all the predictions found\n",
    "                                        int(windowSize[1]*(downscale**scale))))\n",
    "                    return detections\n",
    "\n",
    "        scale+=1\n",
    "    print(count_hog)\n",
    "    return detections\n"
   ]
  },
  {
   "cell_type": "code",
   "execution_count": 8,
   "metadata": {},
   "outputs": [],
   "source": [
    "orientations = 9\n",
    "pixels_per_cell = (16, 16)\n",
    "cells_per_block = (2, 2)\n",
    "threshold = .3\n",
    "stride_slide_win = [20,20]\n",
    "windowSize = [128,64]\n",
    "downscale = 1.5\n",
    "detections = []\n",
    "scale = 0"
   ]
  },
  {
   "cell_type": "code",
   "execution_count": 9,
   "metadata": {},
   "outputs": [
    {
     "name": "stdout",
     "output_type": "stream",
     "text": [
      "1048\n",
      "detection time:  0.018033981323242188\n",
      "1048\n",
      "detection time:  0.015429258346557617\n",
      "1048\n",
      "detection time:  0.014617204666137695\n",
      "1048\n",
      "detection time:  0.014473438262939453\n",
      "1048\n",
      "detection time:  0.014348745346069336\n",
      "1048\n",
      "detection time:  0.014196157455444336\n",
      "1048\n",
      "detection time:  0.014989852905273438\n",
      "1048\n",
      "detection time:  0.013964653015136719\n",
      "1048\n",
      "detection time:  0.013876676559448242\n",
      "1048\n",
      "detection time:  0.014337778091430664\n",
      "1048\n",
      "detection time:  0.013897180557250977\n",
      "1048\n",
      "detection time:  0.014701366424560547\n",
      "1048\n",
      "detection time:  0.014577150344848633\n",
      "1048\n",
      "detection time:  0.0146026611328125\n",
      "1048\n",
      "detection time:  0.014314651489257812\n",
      "1048\n",
      "detection time:  0.014143943786621094\n",
      "1048\n",
      "detection time:  0.013863086700439453\n",
      "1048\n",
      "detection time:  0.014142513275146484\n",
      "1048\n",
      "detection time:  0.013725996017456055\n",
      "1048\n",
      "detection time:  0.013497591018676758\n",
      "1048\n",
      "detection time:  0.013482093811035156\n",
      "1048\n",
      "detection time:  0.013493776321411133\n",
      "1048\n",
      "detection time:  0.013767719268798828\n",
      "1048\n",
      "detection time:  0.014148712158203125\n",
      "1048\n",
      "detection time:  0.01357579231262207\n",
      "1048\n",
      "detection time:  0.01276540756225586\n",
      "1048\n",
      "detection time:  0.01279759407043457\n",
      "1048\n",
      "detection time:  0.012763023376464844\n",
      "1048\n",
      "detection time:  0.012779951095581055\n",
      "1048\n",
      "detection time:  0.012765884399414062\n",
      "1048\n",
      "detection time:  0.012784481048583984\n",
      "1048\n",
      "detection time:  0.013424873352050781\n",
      "1048\n",
      "detection time:  0.012785673141479492\n",
      "1048\n",
      "detection time:  0.01280522346496582\n",
      "1048\n",
      "detection time:  0.012952566146850586\n",
      "1048\n",
      "detection time:  0.01386713981628418\n"
     ]
    },
    {
     "data": {
      "text/plain": [
       "\"\\nfor resized_imgs in pyramid_gaussian(img, downscale=1.5, max_layer=4):\\n    print(resized_imgs.shape, i)\\n    plt.figure()\\n    plt.imshow(resized_imgs, cmap='gray')\\n    plt.show()\\n    i += 1\\n\\n    \""
      ]
     },
     "execution_count": 9,
     "metadata": {},
     "output_type": "execute_result"
    }
   ],
   "source": [
    "#### check gaussian pyramis images ##\n",
    "from matplotlib import pyplot as plt\n",
    "%matplotlib inline\n",
    "import cv2 \n",
    "import time\n",
    "\n",
    "inp_img_path = '/media/dtu-project2/2GB_HDD/Detection_HOG_SVM/294.jpg'\n",
    "img_folder = '/media/dtu-project2/2GB_HDD/Detection_HOG_SVM/temp3'\n",
    "count = 0\n",
    "\n",
    "for img in os.listdir(img_folder):\n",
    "    count += 1\n",
    "    img_path = os.path.join(img_folder, img)\n",
    "    #print(img_path)\n",
    "    image = cv2.imread(img_path, flags=0)\n",
    "    [w,h] = image.shape\n",
    "    image = cv2.resize(image, (h//2,w//2))\n",
    "    st = time.time()\n",
    "    detections = get_detection_boxes_image_pyramid(image, downscale=downscale, stride_slide_win= stride_slide_win, window_size=windowSize)\n",
    "    print('detection time: ', (time.time()-st))\n",
    "    #print(detections)\n",
    "\n",
    "'''\n",
    "for resized_imgs in pyramid_gaussian(img, downscale=1.5, max_layer=4):\n",
    "    print(resized_imgs.shape, i)\n",
    "    plt.figure()\n",
    "    plt.imshow(resized_imgs, cmap='gray')\n",
    "    plt.show()\n",
    "    i += 1\n",
    "\n",
    "    '''"
   ]
  },
  {
   "cell_type": "code",
   "execution_count": null,
   "metadata": {},
   "outputs": [],
   "source": []
  }
 ],
 "metadata": {
  "kernelspec": {
   "display_name": "Python 3.6.9 64-bit",
   "language": "python",
   "name": "python36964bit0152bc050d9f4815a8f5798501e11854"
  },
  "language_info": {
   "codemirror_mode": {
    "name": "ipython",
    "version": 3
   },
   "file_extension": ".py",
   "mimetype": "text/x-python",
   "name": "python",
   "nbconvert_exporter": "python",
   "pygments_lexer": "ipython3",
   "version": "3.6.9"
  }
 },
 "nbformat": 4,
 "nbformat_minor": 4
}
