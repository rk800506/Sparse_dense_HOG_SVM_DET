{
 "cells": [
  {
   "cell_type": "code",
   "execution_count": 2,
   "metadata": {},
   "outputs": [],
   "source": [
    "# import the necessary packages\n",
    "from __future__ import print_function\n",
    "from imutils.object_detection import non_max_suppression\n",
    "from imutils import paths\n",
    "import numpy as np\n",
    "import argparse\n",
    "import imutils\n",
    "import cv2\n",
    "\n",
    "\n",
    "# initialize the HOG descriptor/person detector\n",
    "hog = cv2.HOGDescriptor()\n",
    "hog.setSVMDetector(cv2.HOGDescriptor_getDefaultPeopleDetector())"
   ]
  },
  {
   "cell_type": "code",
   "execution_count": 3,
   "metadata": {},
   "outputs": [
    {
     "output_type": "execute_result",
     "data": {
      "text/plain": "9"
     },
     "metadata": {},
     "execution_count": 3
    }
   ],
   "source": [
    "hog.nbins"
   ]
  },
  {
   "cell_type": "code",
   "execution_count": 10,
   "metadata": {},
   "outputs": [],
   "source": [
    "## define image paths\n",
    "img_path = \"/media/dtu-project2/2GB_HDD/Detection_HOG_SVM/dataset/bigger_dataset/pos\""
   ]
  },
  {
   "cell_type": "code",
   "execution_count": 9,
   "metadata": {},
   "outputs": [],
   "source": [
    "# loop over the image paths\n",
    "import time\n",
    "for imagePath in paths.list_images(img_path):\n",
    "\t# load the image and resize it to (1) reduce detection time\n",
    "\t# and (2) improve detection accuracy\n",
    "\timage = cv2.imread(imagePath)\n",
    "\timage = imutils.resize(image, width=min(400, image.shape[1]))\n",
    "\torig = image.copy()\n",
    "\t# detect people in the image\n",
    "\tst = time.time()\n",
    "\t(rects, weights) = hog.detectMultiScale(image, winStride=(4, 4),padding=(8, 8), scale=1.05)\n",
    "\t# draw the original bounding boxes\n",
    "\tfor (x, y, w, h) in rects:\n",
    "\t\tcv2.rectangle(orig, (x, y), (x + w, y + h), (0, 0, 255), 2)\n",
    "\t# apply non-maxima suppression to the bounding boxes using a\n",
    "\t# fairly large overlap threshold to try to maintain overlapping\n",
    "\t# boxes that are still people\n",
    "\trects = np.array([[x, y, x + w, y + h] for (x, y, w, h) in rects])\n",
    "\tpick = non_max_suppression(rects, probs=None, overlapThresh=0.65)\n",
    "\t# draw the final bounding boxes\n",
    "\tfor (xA, yA, xB, yB) in pick:\n",
    "\t\tcv2.rectangle(image, (xA, yA), (xB, yB), (0, 255, 0), 2)\n",
    "\t# show some information on the number of bounding boxes\n",
    "\tfilename = imagePath[imagePath.rfind(\"/\") + 1:]\n",
    "\tprint(\"[INFO] {}: {} original boxes, {} after suppression\".format(\n",
    "\t\tfilename, len(rects), len(pick)))\n",
    "\t# show the output images\n",
    "\tcv2.imshow(\"Before NMS\", orig)\n",
    "\t#cv2.imshow(\"After NMS\", image)\n",
    "\tcv2.waitKey(0)\n",
    "cv2.destroyAllWindows()"
   ]
  },
  {
   "cell_type": "code",
   "execution_count": null,
   "metadata": {},
   "outputs": [],
   "source": []
  }
 ],
 "metadata": {
  "kernelspec": {
   "display_name": "Python 3.6.9 64-bit",
   "language": "python",
   "name": "python36964bit0152bc050d9f4815a8f5798501e11854"
  },
  "language_info": {
   "codemirror_mode": {
    "name": "ipython",
    "version": 3
   },
   "file_extension": ".py",
   "mimetype": "text/x-python",
   "name": "python",
   "nbconvert_exporter": "python",
   "pygments_lexer": "ipython3",
   "version": "3.6.9-final"
  }
 },
 "nbformat": 4,
 "nbformat_minor": 4
}