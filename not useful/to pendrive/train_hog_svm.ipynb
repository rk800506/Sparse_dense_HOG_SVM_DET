{
 "cells": [
  {
   "cell_type": "code",
   "execution_count": 1,
   "metadata": {},
   "outputs": [],
   "source": [
    "from skimage.feature import hog\n",
    "from skimage.transform import pyramid_gaussian\n",
    "from skimage.io import imread\n",
    "#from sklearn.externals\n",
    "import joblib\n",
    "from sklearn.preprocessing import LabelEncoder\n",
    "\n",
    "from sklearn.metrics import classification_report\n",
    "#from sklearn.cross_validation import train_test_split\n",
    "from sklearn.model_selection import train_test_split\n",
    "from skimage import color\n",
    "from imutils.object_detection import non_max_suppression\n",
    "import imutils\n",
    "import numpy as np\n",
    "import argparse\n",
    "import cv2\n",
    "import os\n",
    "import glob\n",
    "from PIL import Image # This will be used to read/modify images (can be done via OpenCV too)\n",
    "from numpy import *"
   ]
  },
  {
   "cell_type": "code",
   "execution_count": 2,
   "metadata": {},
   "outputs": [],
   "source": [
    "# define parameters of HOG feature extraction\n",
    "orientations = 3\n",
    "pixels_per_cell = (16, 16)\n",
    "cells_per_block = (2, 2)"
   ]
  },
  {
   "cell_type": "code",
   "execution_count": 3,
   "metadata": {},
   "outputs": [],
   "source": [
    "# define path to images:\n",
    "\n",
    "pos_im_path = r\"/media/dtu-project2/2GB_HDD/Detection_HOG_SVM/bigger_dataset_128_64/pos\"  \n",
    "neg_im_path = r\"/media/dtu-project2/2GB_HDD/Detection_HOG_SVM/bigger_dataset_128_64/neg\""
   ]
  },
  {
   "cell_type": "code",
   "execution_count": 4,
   "metadata": {},
   "outputs": [
    {
     "name": "stdout",
     "output_type": "stream",
     "text": [
      "2622\n",
      "2448\n"
     ]
    }
   ],
   "source": [
    "# read the image files:\n",
    "pos_im_listing = os.listdir(pos_im_path) # it will read all the files in the positive image path (so all the required images)\n",
    "neg_im_listing = os.listdir(neg_im_path)\n",
    "num_pos_samples = size(pos_im_listing) # simply states the total no. of images\n",
    "num_neg_samples = size(neg_im_listing)\n",
    "print(num_pos_samples) # prints the number value of the no.of samples in positive dataset\n",
    "print(num_neg_samples)\n"
   ]
  },
  {
   "cell_type": "code",
   "execution_count": 5,
   "metadata": {
    "tags": [
     "outputPrepend"
    ]
   },
   "outputs": [],
   "source": [
    "# compute HOG features and label them:\n",
    "data= []\n",
    "labels = []\n",
    "for file in pos_im_listing: #this loop enables reading the files in the pos_im_listing variable one by one\n",
    "    filename = os.path.join(pos_im_path, file)\n",
    "    #print(file)\n",
    "    img = Image.open(filename)\n",
    "    \n",
    "    #img = img.resize((240,240))\n",
    "    #img = img.resize((64,128))\n",
    "    gray = img.convert('L') # convert the image into single channel i.e. RGB to grayscale\n",
    "    # calculate HOG for positive features\n",
    "    fd = hog(gray, orientations, pixels_per_cell, cells_per_block, block_norm='L2', feature_vector=True)# fd= feature descriptor\n",
    "    #print(fd.shape)\n",
    "    data.append(fd)\n",
    "    #print(size(data))\n",
    "    labels.append(1)\n",
    "    #print(labels)\n",
    "\n",
    "## for negative images\n",
    "for file in neg_im_listing: #this loop enables reading the files in the pos_im_listing variable one by one\n",
    "    filename = os.path.join(neg_im_path, file)\n",
    "    #print(file)\n",
    "    img = Image.open(filename)\n",
    "    #img=Image.open(neg_im_path + '\\\\' + file)\n",
    "    #img = img.resize((240,240))\n",
    "    #img = img.resize((64,128))\n",
    "    gray= img.convert('L')\n",
    "    # Now we calculate the HOG for negative features\n",
    "    fd = hog(gray, orientations, pixels_per_cell, cells_per_block, block_norm='L2', feature_vector=True) \n",
    "    data.append(fd)\n",
    "    labels.append(0)\n",
    "\n"
   ]
  },
  {
   "cell_type": "code",
   "execution_count": 6,
   "metadata": {},
   "outputs": [
    {
     "data": {
      "text/plain": [
       "(5070, 588)"
      ]
     },
     "execution_count": 6,
     "metadata": {},
     "output_type": "execute_result"
    }
   ],
   "source": [
    "np_data = np.array(data)\n",
    "np_data.shape"
   ]
  },
  {
   "cell_type": "code",
   "execution_count": 7,
   "metadata": {},
   "outputs": [
    {
     "name": "stdout",
     "output_type": "stream",
     "text": [
      "(5070,)\n"
     ]
    }
   ],
   "source": [
    "# encode the labels, converting them from strings to integers\n",
    "le = LabelEncoder()\n",
    "labels = le.fit_transform(labels) \n",
    "type(labels)\n",
    "print(labels.shape)"
   ]
  },
  {
   "cell_type": "code",
   "execution_count": 8,
   "metadata": {},
   "outputs": [
    {
     "name": "stdout",
     "output_type": "stream",
     "text": [
      "Constructing training/testing split...\n",
      "train data: \t (4056, 588)\n",
      "test data \t (1014, 588)\n",
      "51.676528599605525\n",
      "51.7258382642998\n"
     ]
    }
   ],
   "source": [
    "#%%\n",
    "# Partitioning the data into training and testing splits, using 80%\n",
    "# of the data for training and the remaining 20% for testing\n",
    "print(\" Constructing training/testing split...\")\n",
    "(trainData, testData, trainLabels, testLabels) = train_test_split(\n",
    "\tnp.array(data), labels, test_size=0.20, random_state=10, stratify=labels)\n",
    "print('train data: \\t', trainData.shape)\n",
    "print('test data \\t', testData.shape)\n",
    "\n",
    "s=  np.sum(testLabels)\n",
    "test_label_per = s*100/len(testLabels)\n",
    "print(test_label_per)\n",
    "\n",
    "s=  np.sum(trainLabels)\n",
    "train_label_per = s*100/len(trainLabels)\n",
    "print(train_label_per)"
   ]
  },
  {
   "cell_type": "code",
   "execution_count": 9,
   "metadata": {},
   "outputs": [
    {
     "name": "stdout",
     "output_type": "stream",
     "text": [
      "Training Linear SVM classifier...\n",
      "training finished\n"
     ]
    }
   ],
   "source": [
    "#%% Train the linear SVM\n",
    "from sklearn.svm import LinearSVC, SVC\n",
    "print(\" Training Linear SVM classifier...\")\n",
    "model  = SVC(max_iter=1000)\n",
    "model.fit(trainData, trainLabels)\n",
    "print('training finished')\n"
   ]
  },
  {
   "cell_type": "code",
   "execution_count": 10,
   "metadata": {},
   "outputs": [
    {
     "name": "stdout",
     "output_type": "stream",
     "text": [
      "Evaluating classifier on test data ...\n",
      "              precision    recall  f1-score   support\n",
      "\n",
      "           0       0.98      1.00      0.99       490\n",
      "           1       1.00      0.98      0.99       524\n",
      "\n",
      "    accuracy                           0.99      1014\n",
      "   macro avg       0.99      0.99      0.99      1014\n",
      "weighted avg       0.99      0.99      0.99      1014\n",
      "\n"
     ]
    }
   ],
   "source": [
    "#%% Evaluate the classifier######################################################################\n",
    "print(\" Evaluating classifier on test data ...\")\n",
    "predictions = model.predict(testData)\n",
    "print(classification_report(testLabels, predictions))"
   ]
  },
  {
   "cell_type": "code",
   "execution_count": 11,
   "metadata": {},
   "outputs": [
    {
     "data": {
      "text/plain": [
       "['model_name.npy']"
      ]
     },
     "execution_count": 11,
     "metadata": {},
     "output_type": "execute_result"
    }
   ],
   "source": [
    "# Save the model:\n",
    "#%% Save the Model\n",
    "joblib.dump(model, 'model_name.npy')"
   ]
  },
  {
   "cell_type": "code",
   "execution_count": 37,
   "metadata": {},
   "outputs": [
    {
     "name": "stdout",
     "output_type": "stream",
     "text": [
      "1 [1.41729155]\n",
      "1 [1.42386937]\n",
      "1 [1.08206871]\n",
      "1 [0.95133363]\n",
      "1 [2.15899277]\n",
      "1 [0.17348757]\n",
      "1 [1.41917003]\n",
      "1 [0.65989468]\n",
      "1 [0.51310842]\n",
      "1 [1.34118396]\n",
      "1 [2.16472632]\n",
      "1 [2.75392786]\n",
      "1 [0.82352868]\n",
      "1 [1.82503182]\n",
      "1 [1.10183252]\n",
      "1 [2.19164648]\n",
      "1 [1.188263]\n",
      "1 [0.72550977]\n",
      "1 [0.27178254]\n",
      "1 [1.02479749]\n",
      "1 [2.28818252]\n",
      "1 [1.53986095]\n",
      "1 [1.79541675]\n",
      "1 [1.75581883]\n",
      "0 [-1.79034407]\n",
      "0 [-0.70587294]\n",
      "0 [-0.70408013]\n",
      "0 [-1.0228518]\n",
      "1 [0.01503621]\n",
      "0 [-1.49849722]\n",
      "0 [-0.22055954]\n",
      "0 [-1.98241286]\n",
      "1 [0.0372847]\n",
      "0 [-0.94337344]\n",
      "0 [-0.72238268]\n",
      "0 [-2.06783902]\n",
      "0 [-0.50435221]\n",
      "0 [-1.28532151]\n",
      "0 [-1.1096478]\n",
      "0 [-0.10469809]\n",
      "0 [-1.35522142]\n",
      "0 [-0.70811752]\n",
      "0 [-1.12773084]\n",
      "0 [-1.12049859]\n",
      "0 [-1.37299437]\n",
      "0 [-1.1584465]\n",
      "0 [-0.16713094]\n",
      "0 [-1.65091858]\n",
      "0 [-0.9832101]\n",
      "0 [-1.54470685]\n",
      "0 [-0.57097877]\n",
      "0 [-1.79380405]\n",
      "0 [-0.70202653]\n",
      "0 [-1.23819027]\n",
      "0 [-1.25206811]\n",
      "0 [-1.23877065]\n",
      "0 [-0.44437177]\n",
      "0 [-0.74933115]\n",
      "0 [-1.1491691]\n",
      "0 [-1.5373227]\n",
      "0 [-0.98781357]\n",
      "0 [-1.59082349]\n",
      "0 [-1.7413629]\n",
      "0 [-1.1495025]\n",
      "0 [-1.34276439]\n",
      "0 [-1.83354252]\n",
      "0 [-1.21326665]\n",
      "0 [-1.29546631]\n",
      "0 [-0.75066641]\n",
      "1 [0.02489488]\n",
      "0 [-1.33987714]\n",
      "0 [-1.95107266]\n",
      "0 [-1.14697969]\n",
      "0 [-0.83145814]\n",
      "0 [-0.81807766]\n",
      "0 [-0.89226757]\n",
      "0 [-1.21705498]\n",
      "0 [-2.0841406]\n",
      "0 [-0.71847237]\n",
      "0 [-0.97816057]\n",
      "0 [-0.44567177]\n",
      "0 [-1.10689292]\n",
      "0 [-0.45034215]\n",
      "[0, 0, 0, 0, 1, 0, 0, 0, 1, 0, 0, 0, 0, 0, 0, 0, 0, 0, 0, 0, 0, 0, 0, 0, 0, 0, 0, 0, 0, 0, 0, 0, 0, 0, 0, 0, 0, 0, 0, 0, 0, 0, 0, 0, 0, 1, 0, 0, 0, 0, 0, 0, 0, 0, 0, 0, 0, 0, 0]\n"
     ]
    }
   ],
   "source": [
    "### visualizing model output for some of the images form test data\n",
    "import os\n",
    "import matplotlib.pyplot as plt \n",
    "%matplotlib inline\n",
    "from sklearn.metrics import precision_score, recall_score, f1_score\n",
    "\n",
    "extra__pos_data_dir = '/media/dtu-project2/2GB_HDD/Detection_HOG_SVM/neg_pos_imgs_for_hog_svm_unsen/pos'\n",
    "extra__neg_data_dir = '/media/dtu-project2/2GB_HDD/Detection_HOG_SVM/neg_pos_imgs_for_hog_svm_unsen/neg'\n",
    "pos_pred = []\n",
    "neg_pred = []\n",
    "test_data = []\n",
    "positive_decision_boundary = 0\n",
    "negative_decision_boundary = 0\n",
    "\n",
    "for img in os.listdir(extra__pos_data_dir):\n",
    "    file_path = os.path.join(extra__pos_data_dir, img)\n",
    "    temp_img = Image.open(file_path)\n",
    "    gray_img = temp_img.convert('L')\n",
    "    #plt.figure()\n",
    "    #plt.imshow(gray_img)\n",
    "    fd,hog_feat = hog(gray_img, orientations, pixels_per_cell, cells_per_block, block_norm='L2', feature_vector=True,visualize=True)\n",
    "    test_data.append(fd)\n",
    "    #plt.figure()\n",
    "    #plt.imshow(hog_feat)\n",
    "    #plt.show()\n",
    "    fd = np.reshape(fd,(1,fd.shape[0]))\n",
    "    #model_out = model.predict(fd)\n",
    "    model_dec_function = model.decision_function(fd)\n",
    "    ### decision boundary\n",
    "    if model_dec_function >= positive_decision_boundary:\n",
    "        model_out = 1\n",
    "    else:\n",
    "        model_out = 0\n",
    "\n",
    "    pos_pred.append(model_out)\n",
    "    print(model_out, model_dec_function)\n",
    "\n",
    "for img in os.listdir(extra__neg_data_dir):\n",
    "    file_path = os.path.join(extra__neg_data_dir, img)\n",
    "    temp_img = Image.open(file_path)\n",
    "    gray_img = temp_img.convert('L')\n",
    "    #plt.figure()\n",
    "    #plt.imshow(gray_img)\n",
    "    fd,hog_feat = hog(gray_img, orientations, pixels_per_cell, cells_per_block, block_norm='L2', feature_vector=True,visualize=True)\n",
    "    test_data.append(fd)\n",
    "    #plt.figure()\n",
    "    #plt.imshow(hog_feat)\n",
    "    #plt.show()\n",
    "    fd = np.reshape(fd,(1,fd.shape[0]))\n",
    "    #model_out = model.predict(fd)\n",
    "    model_dec_function = model.decision_function(fd)\n",
    "    ##### \n",
    "    if model_dec_function <= negative_decision_boundary:\n",
    "        model_out = 0\n",
    "    else:\n",
    "        model_out = 1\n",
    "    neg_pred.append(model_out)\n",
    "    print(model_out, model_dec_function)\n",
    "\n",
    "print(neg_pred)\n",
    "\n"
   ]
  },
  {
   "cell_type": "code",
   "execution_count": 38,
   "metadata": {},
   "outputs": [
    {
     "name": "stdout",
     "output_type": "stream",
     "text": [
      "[1 1 1 1 1 1 1 1 1 1 1 1 1 1 1 1 1 1 1 1 1 1 1 1 0 0 0 0 1 0 0 0 1 0 0 0 0\n",
      " 0 0 0 0 0 0 0 0 0 0 0 0 0 0 0 0 0 0 0 0 0 0 0 0 0 0 0 0 0 0 0 0 1 0 0 0 0\n",
      " 0 0 0 0 0 0 0 0 0]\n",
      "[1 1 1 1 1 1 1 1 1 1 1 1 1 1 1 1 1 1 1 1 1 1 1 1 0 0 0 0 0 0 0 0 0 0 0 0 0\n",
      " 0 0 0 0 0 0 0 0 0 0 0 0 0 0 0 0 0 0 0 0 0 0 0 0 0 0 0 0 0 0 0 0 0 0 0 0 0\n",
      " 0 0 0 0 0 0 0 0 0]\n"
     ]
    }
   ],
   "source": [
    "test_data = np.array(test_data)\n",
    "test_data.shape\n",
    "pred = pos_pred+neg_pred\n",
    "pred = np.array(pred)\n",
    "print(pred)\n",
    "\n",
    "pos_label = [1]*len(pos_pred)\n",
    "neg_label = [0]*len(neg_pred)\n",
    "test_labels = np.array(pos_label+neg_label)\n",
    "print(test_labels)"
   ]
  },
  {
   "cell_type": "code",
   "execution_count": 12,
   "metadata": {},
   "outputs": [
    {
     "name": "stdout",
     "output_type": "stream",
     "text": [
      "Evaluating classifier on test data ...\n"
     ]
    },
    {
     "ename": "NameError",
     "evalue": "name 'test_data' is not defined",
     "output_type": "error",
     "traceback": [
      "\u001b[0;31m---------------------------------------------------------------------------\u001b[0m",
      "\u001b[0;31mNameError\u001b[0m                                 Traceback (most recent call last)",
      "\u001b[0;32m<ipython-input-12-fa835a38ee65>\u001b[0m in \u001b[0;36m<module>\u001b[0;34m\u001b[0m\n\u001b[1;32m      1\u001b[0m \u001b[0mprint\u001b[0m\u001b[0;34m(\u001b[0m\u001b[0;34m\" Evaluating classifier on test data ...\"\u001b[0m\u001b[0;34m)\u001b[0m\u001b[0;34m\u001b[0m\u001b[0;34m\u001b[0m\u001b[0m\n\u001b[0;32m----> 2\u001b[0;31m \u001b[0mpredictions\u001b[0m \u001b[0;34m=\u001b[0m \u001b[0mmodel\u001b[0m\u001b[0;34m.\u001b[0m\u001b[0mpredict\u001b[0m\u001b[0;34m(\u001b[0m\u001b[0mtest_data\u001b[0m\u001b[0;34m)\u001b[0m\u001b[0;34m\u001b[0m\u001b[0;34m\u001b[0m\u001b[0m\n\u001b[0m\u001b[1;32m      3\u001b[0m \u001b[0mprint\u001b[0m\u001b[0;34m(\u001b[0m\u001b[0mclassification_report\u001b[0m\u001b[0;34m(\u001b[0m\u001b[0mtest_labels\u001b[0m\u001b[0;34m,\u001b[0m \u001b[0mpred\u001b[0m\u001b[0;34m)\u001b[0m\u001b[0;34m)\u001b[0m\u001b[0;34m\u001b[0m\u001b[0;34m\u001b[0m\u001b[0m\n",
      "\u001b[0;31mNameError\u001b[0m: name 'test_data' is not defined"
     ]
    }
   ],
   "source": [
    "print(\" Evaluating classifier on test data ...\")\n",
    "predictions = model.predict(test_data)\n",
    "print(classification_report(test_labels, pred))"
   ]
  },
  {
   "cell_type": "code",
   "execution_count": null,
   "metadata": {},
   "outputs": [],
   "source": []
  }
 ],
 "metadata": {
  "kernelspec": {
   "display_name": "Python 3.6.9 64-bit",
   "language": "python",
   "name": "python36964bit0152bc050d9f4815a8f5798501e11854"
  },
  "language_info": {
   "codemirror_mode": {
    "name": "ipython",
    "version": 3
   },
   "file_extension": ".py",
   "mimetype": "text/x-python",
   "name": "python",
   "nbconvert_exporter": "python",
   "pygments_lexer": "ipython3",
   "version": "3.6.9"
  }
 },
 "nbformat": 4,
 "nbformat_minor": 4
}
