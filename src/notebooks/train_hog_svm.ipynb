{
 "cells": [
  {
   "cell_type": "code",
   "execution_count": 1,
   "metadata": {},
   "outputs": [],
   "source": [
    "from skimage.feature import hog\n",
    "from skimage.transform import pyramid_gaussian\n",
    "from skimage.io import imread\n",
    "#from sklearn.externals\n",
    "import joblib\n",
    "from sklearn.preprocessing import LabelEncoder\n",
    "\n",
    "from sklearn.metrics import classification_report\n",
    "#from sklearn.cross_validation import train_test_split\n",
    "from sklearn.model_selection import train_test_split\n",
    "from skimage import color\n",
    "from imutils.object_detection import non_max_suppression\n",
    "import imutils\n",
    "import numpy as np\n",
    "import argparse\n",
    "import cv2\n",
    "import os\n",
    "import glob\n",
    "from PIL import Image # This will be used to read/modify images (can be done via OpenCV too)\n",
    "from numpy import *\n",
    "import sklearn\n",
    "import skimage"
   ]
  },
  {
   "cell_type": "code",
   "execution_count": 2,
   "metadata": {},
   "outputs": [
    {
     "output_type": "stream",
     "name": "stdout",
     "text": "Defaulting to user installation because normal site-packages is not writeable\nRequirement already satisfied: opencv-contrib-python>=4.5.1 in /home/dtu-project2/.local/lib/python3.6/site-packages (4.5.4.60)\nRequirement already satisfied: numpy>=1.13.3 in /home/dtu-project2/.local/lib/python3.6/site-packages (from opencv-contrib-python>=4.5.1) (1.19.5)\n0.23.2 sklean\n0.17.2\n4.5.4\n"
    }
   ],
   "source": [
    "!pip install \"opencv-contrib-python>=4.5.1\"\n",
    "print(sklearn.__version__, 'sklean')\n",
    "print(skimage.__version__)\n",
    "print(cv2.__version__)"
   ]
  },
  {
   "cell_type": "code",
   "execution_count": 3,
   "metadata": {},
   "outputs": [],
   "source": [
    "# define parameters of HOG feature extraction\n",
    "orientations = 9\n",
    "pixels_per_cell = (16, 16)\n",
    "cells_per_block = (2, 2)"
   ]
  },
  {
   "cell_type": "code",
   "execution_count": 4,
   "metadata": {},
   "outputs": [],
   "source": [
    "# define path to images:\n",
    "\n",
    "pos_im_path = r\"/media/dtu-project2/2GB_HDD/Detection_HOG_SVM/dataset/bigger_dataset_128_64/pos\"  \n",
    "neg_im_path = r\"/media/dtu-project2/2GB_HDD/Detection_HOG_SVM/dataset/bigger_dataset_128_64/neg\"\n",
    "\n",
    "#pos_im_path = '/media/dtu-project2/2GB_HDD/Detection_HOG_SVM/bigger_dataset_90_64/pos_cropped'\n",
    "#neg_im_path = '/media/dtu-project2/2GB_HDD/Detection_HOG_SVM/bigger_dataset_90_64/neg_cropped'\n",
    "\n",
    "#pos_im_path = r\"/media/dtu-project2/2GB_HDD/classifymito/mitosis_detection/MandNM/mitosis\"\n",
    "#neg_im_path = r\"/media/dtu-project2/2GB_HDD/classifymito/mitosis_detection/MandNM/nonmitosis\"\n",
    "\n",
    "#pos_im_path = r\"/media/dtu-project2/2GB_HDD/classifymito/mitosis_detection/with_nucleus\"\n",
    "#neg_im_path = r\"/media/dtu-project2/2GB_HDD/classifymito/mitosis_detection/no_nucleus\""
   ]
  },
  {
   "cell_type": "code",
   "execution_count": 5,
   "metadata": {},
   "outputs": [
    {
     "output_type": "stream",
     "name": "stdout",
     "text": "2699\n2545\n"
    }
   ],
   "source": [
    "# read the image files:\n",
    "pos_im_listing = os.listdir(pos_im_path) # it will read all the files in the positive image path (so all the required images)\n",
    "neg_im_listing = os.listdir(neg_im_path)\n",
    "num_pos_samples = size(pos_im_listing) # simply states the total no. of images\n",
    "num_neg_samples = size(neg_im_listing)\n",
    "print(num_pos_samples) # prints the number value of the no.of samples in positive dataset\n",
    "print(num_neg_samples)\n"
   ]
  },
  {
   "cell_type": "markdown",
   "metadata": {},
   "source": [
    "Hog feature calcuation"
   ]
  },
  {
   "cell_type": "code",
   "execution_count": 6,
   "metadata": {
    "tags": [
     "outputPrepend",
     "outputPrepend",
     "outputPrepend"
    ]
   },
   "outputs": [
    {
     "output_type": "execute_result",
     "data": {
      "text/plain": "(5244, 756)"
     },
     "metadata": {},
     "execution_count": 6
    }
   ],
   "source": [
    "# compute HOG features and label them:\n",
    "data= []\n",
    "labels = []\n",
    "kernel = np.ones((10,10), np.float32)/100\n",
    "\n",
    "for file in pos_im_listing: #this loop enables reading the files in the pos_im_listing variable one by one\n",
    "    filename = os.path.join(pos_im_path, file)\n",
    "    #print(file)\n",
    "    img = cv2.imread(filename)\n",
    "    img = cv2.filter2D(img, -1, kernel)\n",
    "    #img = img.resize((240,240))\n",
    "    #img = img.resize((64,128))\n",
    "    #gray = img.convert('L') # convert the image into single channel i.e. RGB to grayscale\n",
    "    gray = cv2.cvtColor(img, cv2.COLOR_BGR2GRAY)\n",
    "    #print((np.ndarray(gray)).shape)\n",
    "    # calculate HOG for positive features\n",
    "    fd = hog(gray, orientations, pixels_per_cell, cells_per_block, block_norm='L2', feature_vector=True)# fd= feature descriptor\n",
    "    #print(fd.shape)\n",
    "    data.append(fd)\n",
    "    #print(size(data))\n",
    "    labels.append(1)\n",
    "    #print(labels)\n",
    "\n",
    "## for negative images\n",
    "for file in neg_im_listing: #this loop enables reading the files in the pos_im_listing variable one \n",
    "    #print(file)\n",
    "    filename = os.path.join(neg_im_path, file)\n",
    "    #print(file)\n",
    "    img = cv2.imread(filename)\n",
    "    img = cv2.filter2D(img, -1, kernel)\n",
    "    #img=Image.open(neg_im_path + '\\\\' + file)\n",
    "    #img = img.resize((240,240))\n",
    "    #img = img.resize((64,128))\n",
    "    #gray= img.convert('L')\n",
    "    gray = cv2.cvtColor(img, cv2.COLOR_BGR2GRAY)\n",
    "    # Now we calculate the HOG for negative features\n",
    "    fd = hog(gray, orientations, pixels_per_cell, cells_per_block, block_norm='L2', feature_vector=True, transform_sqrt = True) \n",
    "    #print(fd.shape)\n",
    "    data.append(fd)\n",
    "    labels.append(0)\n",
    "\n",
    "shape(data)\n"
   ]
  },
  {
   "cell_type": "markdown",
   "metadata": {},
   "source": [
    "Beblid descriptor calculation"
   ]
  },
  {
   "cell_type": "code",
   "execution_count": 158,
   "metadata": {
    "tags": [
     "outputPrepend",
     "outputPrepend"
    ]
   },
   "outputs": [
    {
     "output_type": "error",
     "ename": "AttributeError",
     "evalue": "'NoneType' object has no attribute 'shape'",
     "traceback": [
      "\u001b[0;31m---------------------------------------------------------------------------\u001b[0m",
      "\u001b[0;31mAttributeError\u001b[0m                            Traceback (most recent call last)",
      "\u001b[0;32m<ipython-input-158-9e61018a25d4>\u001b[0m in \u001b[0;36m<module>\u001b[0;34m\u001b[0m\n\u001b[1;32m     47\u001b[0m     \u001b[0mkpts\u001b[0m\u001b[0;34m,\u001b[0m \u001b[0mdesc\u001b[0m \u001b[0;34m=\u001b[0m \u001b[0mdescriptor\u001b[0m\u001b[0;34m.\u001b[0m\u001b[0mcompute\u001b[0m\u001b[0;34m(\u001b[0m\u001b[0mgray\u001b[0m\u001b[0;34m,\u001b[0m \u001b[0mkpts\u001b[0m\u001b[0;34m)\u001b[0m\u001b[0;34m\u001b[0m\u001b[0;34m\u001b[0m\u001b[0m\n\u001b[1;32m     48\u001b[0m \u001b[0;34m\u001b[0m\u001b[0m\n\u001b[0;32m---> 49\u001b[0;31m     \u001b[0mdesc\u001b[0m \u001b[0;34m=\u001b[0m \u001b[0mnp\u001b[0m\u001b[0;34m.\u001b[0m\u001b[0mreshape\u001b[0m\u001b[0;34m(\u001b[0m\u001b[0mdesc\u001b[0m\u001b[0;34m,\u001b[0m \u001b[0;34m(\u001b[0m\u001b[0mdesc\u001b[0m\u001b[0;34m.\u001b[0m\u001b[0mshape\u001b[0m\u001b[0;34m[\u001b[0m\u001b[0;36m0\u001b[0m\u001b[0;34m]\u001b[0m\u001b[0;34m*\u001b[0m\u001b[0mdesc\u001b[0m\u001b[0;34m.\u001b[0m\u001b[0mshape\u001b[0m\u001b[0;34m[\u001b[0m\u001b[0;36m1\u001b[0m\u001b[0;34m]\u001b[0m\u001b[0;34m,\u001b[0m \u001b[0;36m1\u001b[0m\u001b[0;34m)\u001b[0m\u001b[0;34m,\u001b[0m \u001b[0morder\u001b[0m\u001b[0;34m=\u001b[0m\u001b[0;34m'C'\u001b[0m\u001b[0;34m)\u001b[0m\u001b[0;34m\u001b[0m\u001b[0;34m\u001b[0m\u001b[0m\n\u001b[0m\u001b[1;32m     50\u001b[0m     \u001b[0mmitosis_desc\u001b[0m\u001b[0;34m.\u001b[0m\u001b[0mappend\u001b[0m\u001b[0;34m(\u001b[0m\u001b[0mdesc\u001b[0m\u001b[0;34m)\u001b[0m\u001b[0;34m\u001b[0m\u001b[0;34m\u001b[0m\u001b[0m\n\u001b[1;32m     51\u001b[0m     \u001b[0mlabels_beblid\u001b[0m\u001b[0;34m.\u001b[0m\u001b[0mappend\u001b[0m\u001b[0;34m(\u001b[0m\u001b[0;36m0\u001b[0m\u001b[0;34m)\u001b[0m\u001b[0;34m\u001b[0m\u001b[0;34m\u001b[0m\u001b[0m\n",
      "\u001b[0;31mAttributeError\u001b[0m: 'NoneType' object has no attribute 'shape'"
     ]
    }
   ],
   "source": [
    "# beblid feature using ORB detector\n",
    "detector = cv2.ORB_create(1000)\n",
    "\n",
    "descriptor = cv2.ORB_create()\n",
    "#descriptor = cv2.xfeatures2d.BEBLID_create(0.75, None)\n",
    "\n",
    "mitosis_desc = []\n",
    "nonmitosis_dec = []\n",
    "max_des_row = 0\n",
    "temp_list = []\n",
    "labels_beblid = []\n",
    "\n",
    "fd_beblid = []\n",
    "count = 0\n",
    "\n",
    "#######\n",
    "for file in pos_im_listing: #this loop enables reading the files in the pos_im_listing variable\n",
    "    filename = os.path.join(pos_im_path, file)\n",
    "    img = cv2.imread(filename)\n",
    "    \n",
    "    #print('ok')\n",
    "    #print(img.shape)\n",
    "    gray = cv2.cvtColor(img, cv2.COLOR_BGR2GRAY)\n",
    "    #print(gray.shape)\n",
    "    #print(filename)\n",
    "    kpts = detector.detect(gray, None)\n",
    "    kpts, desc = descriptor.compute(gray, kpts)\n",
    "\n",
    "    desc = np.reshape(desc, (desc.shape[0]*desc.shape[1], 1), order='C')\n",
    "    mitosis_desc.append(desc)\n",
    "    labels_beblid.append(1)\n",
    "    temp = desc.shape[0]\n",
    "    #print(temp)\n",
    "    if temp > max_des_row:\n",
    "        max_des_row = temp\n",
    "\n",
    "for file in neg_im_listing: #this loop enables reading the files in the pos_im_listing variable\n",
    "    filename = os.path.join(neg_im_path, file)\n",
    "    img = cv2.imread(filename)\n",
    "    \n",
    "    #print('ok')\n",
    "    #print(img.shape)\n",
    "    gray = cv2.cvtColor(img, cv2.COLOR_BGR2GRAY)\n",
    "    #print(gray.shape)\n",
    "    #print(filename)\n",
    "    kpts = detector.detect(gray, None)\n",
    "    kpts, desc = descriptor.compute(gray, kpts)\n",
    "\n",
    "    desc = np.reshape(desc, (desc.shape[0]*desc.shape[1], 1), order='C')\n",
    "    mitosis_desc.append(desc)\n",
    "    labels_beblid.append(0)\n",
    "    temp = desc.shape[0]\n",
    "    #print(temp)\n",
    "    if temp > max_des_row:\n",
    "        max_des_row = temp\n",
    "    \n",
    "    #print(temp)\n",
    "    #print(desc.shape)\n",
    "    #print(shape(kpts))\n",
    "print(max_des_row)\n",
    "##print(mitosis_desc[0])\n",
    "\n",
    "for row in mitosis_desc:\n",
    "    row = np.reshape(row, (1, row.shape[0]*row.shape[1]))\n",
    "    #row = np.transpose(row)\n",
    "    \n",
    "    row = list(row[0])\n",
    "    row_len = len(row)\n",
    "    #print(row_len, 'before')\n",
    "    \n",
    "    pad_left  = (max_des_row-row_len)//2\n",
    "    pad_right = max_des_row-row_len - pad_left\n",
    "\n",
    "    row = np.pad(row, pad_width=(pad_left, pad_right), mode='constant')\n",
    "    fd_beblid.append(row)\n",
    "    #print('feature number: ', count)\n",
    "    count += 1\n",
    "\n",
    "\n",
    "print(shape(fd_beblid))\n",
    "#print(len(fd_beblid))\n",
    "#print(len(fd_beblid[1]))\n",
    "#print(fd_beblid[1])\n",
    "\n",
    "\n"
   ]
  },
  {
   "cell_type": "code",
   "execution_count": 7,
   "metadata": {},
   "outputs": [
    {
     "output_type": "stream",
     "name": "stdout",
     "text": "(5244, 756)\n"
    },
    {
     "output_type": "error",
     "ename": "NameError",
     "evalue": "name 'fd_beblid' is not defined",
     "traceback": [
      "\u001b[0;31m---------------------------------------------------------------------------\u001b[0m",
      "\u001b[0;31mNameError\u001b[0m                                 Traceback (most recent call last)",
      "\u001b[0;32m<ipython-input-7-1ab850d91d41>\u001b[0m in \u001b[0;36m<module>\u001b[0;34m\u001b[0m\n\u001b[1;32m      2\u001b[0m \u001b[0mprint\u001b[0m\u001b[0;34m(\u001b[0m\u001b[0mnp_data\u001b[0m\u001b[0;34m.\u001b[0m\u001b[0mshape\u001b[0m\u001b[0;34m)\u001b[0m\u001b[0;34m\u001b[0m\u001b[0;34m\u001b[0m\u001b[0m\n\u001b[1;32m      3\u001b[0m \u001b[0;34m\u001b[0m\u001b[0m\n\u001b[0;32m----> 4\u001b[0;31m \u001b[0mnp_data_mito\u001b[0m \u001b[0;34m=\u001b[0m \u001b[0mnp\u001b[0m\u001b[0;34m.\u001b[0m\u001b[0marray\u001b[0m\u001b[0;34m(\u001b[0m\u001b[0mfd_beblid\u001b[0m\u001b[0;34m)\u001b[0m\u001b[0;34m\u001b[0m\u001b[0;34m\u001b[0m\u001b[0m\n\u001b[0m\u001b[1;32m      5\u001b[0m \u001b[0mprint\u001b[0m\u001b[0;34m(\u001b[0m\u001b[0mnp_data_mito\u001b[0m\u001b[0;34m.\u001b[0m\u001b[0mshape\u001b[0m\u001b[0;34m)\u001b[0m\u001b[0;34m\u001b[0m\u001b[0;34m\u001b[0m\u001b[0m\n",
      "\u001b[0;31mNameError\u001b[0m: name 'fd_beblid' is not defined"
     ]
    }
   ],
   "source": [
    "np_data = np.array(data)\n",
    "print(np_data.shape)\n",
    "\n",
    "np_data_mito = np.array(fd_beblid)\n",
    "print(np_data_mito.shape)"
   ]
  },
  {
   "cell_type": "code",
   "execution_count": 8,
   "metadata": {},
   "outputs": [
    {
     "output_type": "stream",
     "name": "stdout",
     "text": "(5244,)\n"
    },
    {
     "output_type": "error",
     "ename": "NameError",
     "evalue": "name 'labels_beblid' is not defined",
     "traceback": [
      "\u001b[0;31m---------------------------------------------------------------------------\u001b[0m",
      "\u001b[0;31mNameError\u001b[0m                                 Traceback (most recent call last)",
      "\u001b[0;32m<ipython-input-8-c51b1e9f755c>\u001b[0m in \u001b[0;36m<module>\u001b[0;34m\u001b[0m\n\u001b[1;32m      5\u001b[0m \u001b[0mprint\u001b[0m\u001b[0;34m(\u001b[0m\u001b[0mlabels\u001b[0m\u001b[0;34m.\u001b[0m\u001b[0mshape\u001b[0m\u001b[0;34m)\u001b[0m\u001b[0;34m\u001b[0m\u001b[0;34m\u001b[0m\u001b[0m\n\u001b[1;32m      6\u001b[0m \u001b[0;34m\u001b[0m\u001b[0m\n\u001b[0;32m----> 7\u001b[0;31m \u001b[0mlabels_beblid\u001b[0m \u001b[0;34m=\u001b[0m \u001b[0mle\u001b[0m\u001b[0;34m.\u001b[0m\u001b[0mfit_transform\u001b[0m\u001b[0;34m(\u001b[0m\u001b[0mlabels_beblid\u001b[0m\u001b[0;34m)\u001b[0m\u001b[0;34m\u001b[0m\u001b[0;34m\u001b[0m\u001b[0m\n\u001b[0m\u001b[1;32m      8\u001b[0m \u001b[0mtype\u001b[0m\u001b[0;34m(\u001b[0m\u001b[0mlabels_beblid\u001b[0m\u001b[0;34m)\u001b[0m\u001b[0;34m\u001b[0m\u001b[0;34m\u001b[0m\u001b[0m\n\u001b[1;32m      9\u001b[0m \u001b[0mprint\u001b[0m\u001b[0;34m(\u001b[0m\u001b[0mlabels_beblid\u001b[0m\u001b[0;34m.\u001b[0m\u001b[0mshape\u001b[0m\u001b[0;34m)\u001b[0m\u001b[0;34m\u001b[0m\u001b[0;34m\u001b[0m\u001b[0m\n",
      "\u001b[0;31mNameError\u001b[0m: name 'labels_beblid' is not defined"
     ]
    }
   ],
   "source": [
    "# encode the labels, converting them from strings to integers\n",
    "le = LabelEncoder()\n",
    "labels = le.fit_transform(labels) \n",
    "type(labels)\n",
    "print(labels.shape)\n",
    "\n",
    "labels_beblid = le.fit_transform(labels_beblid) \n",
    "type(labels_beblid)\n",
    "print(labels_beblid.shape)"
   ]
  },
  {
   "cell_type": "code",
   "execution_count": 9,
   "metadata": {},
   "outputs": [
    {
     "output_type": "stream",
     "name": "stdout",
     "text": "train data: \t (4068, 756)\ntest data: \t (1018, 756)\n"
    }
   ],
   "source": [
    "## partition data into train and test data\n",
    "\n",
    "data_to_use = np_data\n",
    "#data_to_use = np_data_mito\n",
    "\n",
    "label_to_use = labels\n",
    "#label_to_use = labels_beblid\n",
    "\n",
    "(trainData, testData, trainLabels, testLabels) = train_test_split(np.array(data_to_use), label_to_use, test_size=0.2, random_state=10, stratify=label_to_use)\n",
    "\n",
    "print('train data: \\t', trainData.shape)\n",
    "print('test data: \\t', testData.shape)\n"
   ]
  },
  {
   "cell_type": "code",
   "execution_count": 169,
   "metadata": {},
   "outputs": [
    {
     "output_type": "error",
     "ename": "SyntaxError",
     "evalue": "EOL while scanning string literal (<ipython-input-169-d6c65bd6f1f2>, line 22)",
     "traceback": [
      "\u001b[0;36m  File \u001b[0;32m\"<ipython-input-169-d6c65bd6f1f2>\"\u001b[0;36m, line \u001b[0;32m22\u001b[0m\n\u001b[0;31m    ''''per)\u001b[0m\n\u001b[0m            \n^\u001b[0m\n\u001b[0;31mSyntaxError\u001b[0m\u001b[0;31m:\u001b[0m EOL while scanning string literal\n"
     ]
    }
   ],
   "source": [
    "#%%\n",
    "# Partitioning the data into training and testing splits, using 80%\n",
    "# of the data for training and the remaining 20% for '''s\n",
    "\n",
    "'''\n",
    "print(\" Constructing training/testing split...\")\n",
    "#(trainData, testData, trainLabels, testLabels) = train_test_split(\n",
    "#\tnp.array(data_to_use), label_to_use, test_size=0.20, random_state=10, stratify=label_to_use)\n",
    "\n",
    "(trainData, testData, trainLabels, testLabels) = train_test_split(np.array(data_to_use), label_to_use, test_size=0.2, random_state=10, stratify=label_to_use)\n",
    "\n",
    "\n",
    "print('train data: \\t', trainData.shape)\n",
    "print('test data \\t', testData.shape)\n",
    "\n",
    "s=  np.sum(testLabels)\n",
    "test_label_per = s*100/len(testLabels)\n",
    "print(test_label_per)\n",
    "\n",
    "s=  np.sum(trainLabels)\n",
    "train_label_per = s*100/len(trainLabels)\n",
    "print(train_label_p\n",
    "''''per)"
   ]
  },
  {
   "cell_type": "code",
   "execution_count": 10,
   "metadata": {},
   "outputs": [
    {
     "output_type": "stream",
     "name": "stdout",
     "text": "Training Linear SVM classifier...\ntraining finished\n"
    }
   ],
   "source": [
    "#%% Train the linear SVM\n",
    "from sklearn.svm import LinearSVC, SVC\n",
    "print(\" Training Linear SVM classifier...\")\n",
    "model  = LinearSVC(max_iter=5000)\n",
    "model.fit(trainData, trainLabels)\n",
    "print('training finished')\n"
   ]
  },
  {
   "cell_type": "code",
   "execution_count": 11,
   "metadata": {},
   "outputs": [
    {
     "output_type": "stream",
     "name": "stdout",
     "text": "Evaluating classifier on test data ...\n              precision    recall  f1-score   support\n\n           0       0.96      0.96      0.96       490\n           1       0.96      0.97      0.96       528\n\n    accuracy                           0.96      1018\n   macro avg       0.96      0.96      0.96      1018\nweighted avg       0.96      0.96      0.96      1018\n\n"
    }
   ],
   "source": [
    "#%% Evaluate the classifier######################################################################\n",
    "print(\" Evaluating classifier on test data ...\")\n",
    "predictions = model.predict(testData)\n",
    "print(classification_report(testLabels, predictions))"
   ]
  },
  {
   "cell_type": "code",
   "execution_count": 12,
   "metadata": {},
   "outputs": [
    {
     "output_type": "stream",
     "name": "stdout",
     "text": "/media/dtu-project2/2GB_HDD/Detection_HOG_SVM/trained_models/hog_models_128_64\n"
    },
    {
     "output_type": "execute_result",
     "data": {
      "text/plain": "['hogsvm_pedes_9bins_756_feat.npy']"
     },
     "metadata": {},
     "execution_count": 12
    }
   ],
   "source": [
    "# Save the model:\n",
    "#%% Save the Model\n",
    "\n",
    "%cd /media/dtu-project2/2GB_HDD/Detection_HOG_SVM/trained_models/hog_models_128_64 \n",
    "joblib.dump(model, 'hogsvm_pedes_'+str(orientations)+'bins_756_feat.npy')\n",
    "#joblib.dump(model, 'hogsvm_mito_vs_non_mito_'+str(orientations)+'bins.npy', protocol=2)"
   ]
  },
  {
   "cell_type": "code",
   "execution_count": 21,
   "metadata": {},
   "outputs": [
    {
     "output_type": "error",
     "ename": "FileNotFoundError",
     "evalue": "[Errno 2] No such file or directory: '/media/dtu-project2/2GB_HDD/Detection_HOG_SVM/neg_pos_imgs_for_hog_svm_unsen/pos'",
     "traceback": [
      "\u001b[0;31m---------------------------------------------------------------------------\u001b[0m",
      "\u001b[0;31mFileNotFoundError\u001b[0m                         Traceback (most recent call last)",
      "\u001b[0;32m<ipython-input-21-8a6a55d7989a>\u001b[0m in \u001b[0;36m<module>\u001b[0;34m\u001b[0m\n\u001b[1;32m     13\u001b[0m \u001b[0mnegative_decision_boundary\u001b[0m \u001b[0;34m=\u001b[0m \u001b[0;36m0\u001b[0m\u001b[0;34m\u001b[0m\u001b[0;34m\u001b[0m\u001b[0m\n\u001b[1;32m     14\u001b[0m \u001b[0;34m\u001b[0m\u001b[0m\n\u001b[0;32m---> 15\u001b[0;31m \u001b[0;32mfor\u001b[0m \u001b[0mimg\u001b[0m \u001b[0;32min\u001b[0m \u001b[0mos\u001b[0m\u001b[0;34m.\u001b[0m\u001b[0mlistdir\u001b[0m\u001b[0;34m(\u001b[0m\u001b[0mextra__pos_data_dir\u001b[0m\u001b[0;34m)\u001b[0m\u001b[0;34m:\u001b[0m\u001b[0;34m\u001b[0m\u001b[0;34m\u001b[0m\u001b[0m\n\u001b[0m\u001b[1;32m     16\u001b[0m     \u001b[0mfile_path\u001b[0m \u001b[0;34m=\u001b[0m \u001b[0mos\u001b[0m\u001b[0;34m.\u001b[0m\u001b[0mpath\u001b[0m\u001b[0;34m.\u001b[0m\u001b[0mjoin\u001b[0m\u001b[0;34m(\u001b[0m\u001b[0mextra__pos_data_dir\u001b[0m\u001b[0;34m,\u001b[0m \u001b[0mimg\u001b[0m\u001b[0;34m)\u001b[0m\u001b[0;34m\u001b[0m\u001b[0;34m\u001b[0m\u001b[0m\n\u001b[1;32m     17\u001b[0m     \u001b[0mtemp_img\u001b[0m \u001b[0;34m=\u001b[0m \u001b[0mImage\u001b[0m\u001b[0;34m.\u001b[0m\u001b[0mopen\u001b[0m\u001b[0;34m(\u001b[0m\u001b[0mfile_path\u001b[0m\u001b[0;34m)\u001b[0m\u001b[0;34m\u001b[0m\u001b[0;34m\u001b[0m\u001b[0m\n",
      "\u001b[0;31mFileNotFoundError\u001b[0m: [Errno 2] No such file or directory: '/media/dtu-project2/2GB_HDD/Detection_HOG_SVM/neg_pos_imgs_for_hog_svm_unsen/pos'"
     ]
    }
   ],
   "source": [
    "### visualizing model output for some of the images form test data\n",
    "import os\n",
    "import matplotlib.pyplot as plt \n",
    "%matplotlib inline\n",
    "from sklearn.metrics import precision_score, recall_score, f1_score\n",
    "\n",
    "extra__pos_data_dir = '/media/dtu-project2/2GB_HDD/Detection_HOG_SVM/neg_pos_imgs_for_hog_svm_unsen/pos'\n",
    "extra__neg_data_dir = '/media/dtu-project2/2GB_HDD/Detection_HOG_SVM/neg_pos_imgs_for_hog_svm_unsen/neg'\n",
    "pos_pred = []\n",
    "neg_pred = []\n",
    "test_data = []\n",
    "positive_decision_boundary = 0\n",
    "negative_decision_boundary = 0\n",
    "\n",
    "for img in os.listdir(extra__pos_data_dir):\n",
    "    file_path = os.path.join(extra__pos_data_dir, img)\n",
    "    temp_img = Image.open(file_path)\n",
    "    gray_img = temp_img.convert('L')\n",
    "    #plt.figure()\n",
    "    #plt.imshow(gray_img)\n",
    "    fd,hog_feat = hog(gray_img, orientations, pixels_per_cell, cells_per_block, block_norm='L2', feature_vector=True,visualize=True)\n",
    "    test_data.append(fd)\n",
    "    #plt.figure()\n",
    "    #plt.imshow(hog_feat)\n",
    "    #plt.show()\n",
    "    fd = np.reshape(fd,(1,fd.shape[0]))\n",
    "    #model_out = model.predict(fd)\n",
    "    model_dec_function = model.decision_function(fd)\n",
    "    ### decision boundary\n",
    "    if model_dec_function >= positive_decision_boundary:\n",
    "        model_out = 1\n",
    "    else:\n",
    "        model_out = 0\n",
    "\n",
    "    pos_pred.append(model_out)\n",
    "    print(model_out, model_dec_function)\n",
    "\n",
    "for img in os.listdir(extra__neg_data_dir):\n",
    "    file_path = os.path.join(extra__neg_data_dir, img)\n",
    "    temp_img = Image.open(file_path)\n",
    "    gray_img = temp_img.convert('L')\n",
    "    #plt.figure()\n",
    "    #plt.imshow(gray_img)\n",
    "    fd,hog_feat = hog(gray_img, orientations, pixels_per_cell, cells_per_block, block_norm='L2', feature_vector=True,visualize=True)\n",
    "    test_data.append(fd)\n",
    "    #plt.figure()\n",
    "    #plt.imshow(hog_feat)\n",
    "    #plt.show()\n",
    "    fd = np.reshape(fd,(1,fd.shape[0]))\n",
    "    #model_out = model.predict(fd)\n",
    "    model_dec_function = model.decision_function(fd)\n",
    "    ##### \n",
    "    if model_dec_function <= negative_decision_boundary:\n",
    "        model_out = 0\n",
    "    else:\n",
    "        model_out = 1\n",
    "    neg_pred.append(model_out)\n",
    "    print(model_out, model_dec_function)\n",
    "\n",
    "print(neg_pred)\n",
    "\n"
   ]
  },
  {
   "cell_type": "code",
   "execution_count": 38,
   "metadata": {},
   "outputs": [
    {
     "name": "stdout",
     "output_type": "stream",
     "text": [
      "[1 1 1 1 1 1 1 1 1 1 1 1 1 1 1 1 1 1 1 1 1 1 1 1 0 0 0 0 1 0 0 0 1 0 0 0 0\n",
      " 0 0 0 0 0 0 0 0 0 0 0 0 0 0 0 0 0 0 0 0 0 0 0 0 0 0 0 0 0 0 0 0 1 0 0 0 0\n",
      " 0 0 0 0 0 0 0 0 0]\n",
      "[1 1 1 1 1 1 1 1 1 1 1 1 1 1 1 1 1 1 1 1 1 1 1 1 0 0 0 0 0 0 0 0 0 0 0 0 0\n",
      " 0 0 0 0 0 0 0 0 0 0 0 0 0 0 0 0 0 0 0 0 0 0 0 0 0 0 0 0 0 0 0 0 0 0 0 0 0\n",
      " 0 0 0 0 0 0 0 0 0]\n"
     ]
    }
   ],
   "source": [
    "test_data = np.array(test_data)\n",
    "test_data.shape\n",
    "pred = pos_pred+neg_pred\n",
    "pred = np.array(pred)\n",
    "print(pred)\n",
    "\n",
    "pos_label = [1]*len(pos_pred)\n",
    "neg_label = [0]*len(neg_pred)\n",
    "test_labels = np.array(pos_label+neg_label)\n",
    "print(test_labels)"
   ]
  },
  {
   "cell_type": "code",
   "execution_count": 12,
   "metadata": {},
   "outputs": [
    {
     "name": "stdout",
     "output_type": "stream",
     "text": [
      "Evaluating classifier on test data ...\n"
     ]
    },
    {
     "ename": "NameError",
     "evalue": "name 'test_data' is not defined",
     "output_type": "error",
     "traceback": [
      "\u001b[0;31m---------------------------------------------------------------------------\u001b[0m",
      "\u001b[0;31mNameError\u001b[0m                                 Traceback (most recent call last)",
      "\u001b[0;32m<ipython-input-12-fa835a38ee65>\u001b[0m in \u001b[0;36m<module>\u001b[0;34m\u001b[0m\n\u001b[1;32m      1\u001b[0m \u001b[0mprint\u001b[0m\u001b[0;34m(\u001b[0m\u001b[0;34m\" Evaluating classifier on test data ...\"\u001b[0m\u001b[0;34m)\u001b[0m\u001b[0;34m\u001b[0m\u001b[0;34m\u001b[0m\u001b[0m\n\u001b[0;32m----> 2\u001b[0;31m \u001b[0mpredictions\u001b[0m \u001b[0;34m=\u001b[0m \u001b[0mmodel\u001b[0m\u001b[0;34m.\u001b[0m\u001b[0mpredict\u001b[0m\u001b[0;34m(\u001b[0m\u001b[0mtest_data\u001b[0m\u001b[0;34m)\u001b[0m\u001b[0;34m\u001b[0m\u001b[0;34m\u001b[0m\u001b[0m\n\u001b[0m\u001b[1;32m      3\u001b[0m \u001b[0mprint\u001b[0m\u001b[0;34m(\u001b[0m\u001b[0mclassification_report\u001b[0m\u001b[0;34m(\u001b[0m\u001b[0mtest_labels\u001b[0m\u001b[0;34m,\u001b[0m \u001b[0mpred\u001b[0m\u001b[0;34m)\u001b[0m\u001b[0;34m)\u001b[0m\u001b[0;34m\u001b[0m\u001b[0;34m\u001b[0m\u001b[0m\n",
      "\u001b[0;31mNameError\u001b[0m: name 'test_data' is not defined"
     ]
    }
   ],
   "source": [
    "print(\" Evaluating classifier on test data ...\")\n",
    "predictions = model.predict(test_data)\n",
    "print(classification_report(test_labels, pred))"
   ]
  },
  {
   "cell_type": "code",
   "execution_count": null,
   "metadata": {},
   "outputs": [],
   "source": []
  }
 ],
 "metadata": {
  "kernelspec": {
   "display_name": "Python 3.6.9 64-bit",
   "language": "python",
   "name": "python36964bit0152bc050d9f4815a8f5798501e11854"
  },
  "language_info": {
   "codemirror_mode": {
    "name": "ipython",
    "version": 3
   },
   "file_extension": ".py",
   "mimetype": "text/x-python",
   "name": "python",
   "nbconvert_exporter": "python",
   "pygments_lexer": "ipython3",
   "version": "3.6.9-final"
  }
 },
 "nbformat": 4,
 "nbformat_minor": 4
}