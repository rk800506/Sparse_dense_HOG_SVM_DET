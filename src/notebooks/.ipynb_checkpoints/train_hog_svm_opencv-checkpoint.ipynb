{
 "cells": [
  {
   "cell_type": "code",
   "execution_count": 1,
   "metadata": {},
   "outputs": [],
   "source": [
    "import numpy as np\n",
    "import argparse\n",
    "import cv2\n",
    "import os\n",
    "import glob\n",
    "from PIL import Image # This will be used to read/modify images (can be done via OpenCV too)\n",
    "from numpy import *\n",
    "#from skimage.feature import hog"
   ]
  },
  {
   "cell_type": "code",
   "execution_count": 2,
   "metadata": {},
   "outputs": [
    {
     "name": "stdout",
     "output_type": "stream",
     "text": [
      "2638\n",
      "2448\n"
     ]
    }
   ],
   "source": [
    "# define parameters of HOG feature extraction\n",
    "orientations = 9\n",
    "pixels_per_cell = (8, 8)\n",
    "cells_per_block = (2, 2)\n",
    "\n",
    "# define path to images:\n",
    "pos_im_path = r\"/media/dtu-project2/2GB_HDD/Detection_HOG_SVM/dataset/bigger_dataset_128_64/pos\" # This is the path of our positive input dataset\n",
    "neg_im_path = r\"/media/dtu-project2/2GB_HDD/Detection_HOG_SVM/dataset/bigger_dataset_128_64/neg\"\n",
    "\n",
    "# read the image files:\n",
    "pos_im_listing = os.listdir(pos_im_path) # it will read all the files in the positive image path (so all the required images)\n",
    "neg_im_listing = os.listdir(neg_im_path)\n",
    "num_pos_samples = size(pos_im_listing) # simply states the total no. of images\n",
    "num_neg_samples = size(neg_im_listing)\n",
    "print(num_pos_samples) # prints the number value of the no.of samples in positive dataset\n",
    "print(num_neg_samples)\n",
    "data= []\n",
    "labels = []"
   ]
  },
  {
   "cell_type": "code",
   "execution_count": 3,
   "metadata": {},
   "outputs": [
    {
     "name": "stdout",
     "output_type": "stream",
     "text": [
      "756\n",
      "True\n",
      "(756,)\n"
     ]
    }
   ],
   "source": [
    "winSize = (64,128)\n",
    "(a,b) = (16,16)\n",
    "\n",
    "cellSize = (a,b)\n",
    "blockSize = (2*a, 2*b)\n",
    "blockStride = cellSize\n",
    "nbins = 9\n",
    "derivAperture = 1\n",
    "winSigma = 4.\n",
    "histogramNormType = 0\n",
    "L2HysThreshold = 2.0000000000000001e-01\n",
    "gammaCorrection = 0\n",
    "nlevels = 64\n",
    "\n",
    "hog_cv = cv2.HOGDescriptor(winSize,blockSize,blockStride,cellSize,nbins,derivAperture,winSigma,\n",
    "                        histogramNormType,L2HysThreshold,gammaCorrection,nlevels)\n",
    "\n",
    "\n",
    "img = cv2.imread(\"46.jpg\")\n",
    "\n",
    "img = cv2.resize(img, ( img.shape[1]+1, img.shape[0]+1))\n",
    "\n",
    "gray = cv2.cvtColor(img, cv2.COLOR_BGR2GRAY)\n",
    "\n",
    "\n",
    "fd = hog_cv.compute(gray, winStride=(16,16), padding=(0,0))\n",
    "\n",
    "print(hog_cv.getDescriptorSize())\n",
    "print(hog_cv.checkDetectorSize())\n",
    "\n",
    "print(fd.shape)"
   ]
  },
  {
   "cell_type": "code",
   "execution_count": 4,
   "metadata": {
    "tags": [
     "outputPrepend",
     "outputPrepend",
     "outputPrepend",
     "outputPrepend",
     "outputPrepend",
     "outputPrepend",
     "outputPrepend",
     "outputPrepend",
     "outputPrepend",
     "outputPrepend",
     "outputPrepend",
     "outputPrepend",
     "outputPrepend",
     "outputPrepend",
     "outputPrepend",
     "outputPrepend",
     "outputPrepend",
     "outputPrepend",
     "outputPrepend",
     "outputPrepend",
     "outputPrepend",
     "outputPrepend",
     "outputPrepend",
     "outputPrepend",
     "outputPrepend",
     "outputPrepend",
     "outputPrepend",
     "outputPrepend",
     "outputPrepend",
     "outputPrepend",
     "outputPrepend",
     "outputPrepend",
     "outputPrepend",
     "outputPrepend",
     "outputPrepend",
     "outputPrepend",
     "outputPrepend",
     "outputPrepend",
     "outputPrepend",
     "outputPrepend",
     "outputPrepend",
     "outputPrepend",
     "outputPrepend",
     "outputPrepend",
     "outputPrepend",
     "outputPrepend",
     "outputPrepend",
     "outputPrepend",
     "outputPrepend",
     "outputPrepend",
     "outputPrepend",
     "outputPrepend",
     "outputPrepend",
     "outputPrepend",
     "outputPrepend",
     "outputPrepend",
     "outputPrepend",
     "outputPrepend",
     "outputPrepend",
     "outputPrepend",
     "outputPrepend"
    ]
   },
   "outputs": [
    {
     "name": "stdout",
     "output_type": "stream",
     "text": [
      "(5086, 756)\n",
      "(756,)\n"
     ]
    }
   ],
   "source": [
    "data_mat = []\n",
    "\n",
    "for file in pos_im_listing: #this loop enables reading the files in the pos_im_listing variable one by one\n",
    "    filename = os.path.join(pos_im_path, file)\n",
    "    #print(file)\n",
    "    #img = Image.open(filename)#+ '\\\\/home/ubuntu18/Downloads/Object-detection-via-HOG-SVM-master/positive')\n",
    "    #gray = img.convert('L') # convert the image into single channel i.e. RGB to grayscale\n",
    "    img = cv2.imread(filename)\n",
    "    img = cv2.resize(img, ( img.shape[1]+1, img.shape[0]+1))\n",
    "    gray = cv2.cvtColor(img, cv2.COLOR_BGR2GRAY)\n",
    "    \n",
    "    # calculate HOG for positive features\n",
    "    #fd = hog(gray, orientations, pixels_per_cell, cells_per_block, block_norm='L2', feature_vector=True)\n",
    "    fd = hog_cv.compute(gray, winStride=(16,16), padding=(0,0))\n",
    "    #fd = np.expand_dims(fd, axis=0)\n",
    "    #print(fd.shape)\n",
    "    data_mat.append(fd)\n",
    "    #data_mat = np.vstack([data_mat, fd])\n",
    "    #print(labels)\n",
    "# create labels\n",
    "\n",
    "# Same for the negative images\n",
    "for file in neg_im_listing: #this loop enables reading the files in the pos_im_listing variable one by one\n",
    "    filename = os.path.join(neg_im_path, file)\n",
    "    #print(file)\n",
    "    #img = Image.open(filename)\n",
    "    #gray= img.convert('L')\n",
    "    img = cv2.imread(filename)\n",
    "    img = cv2.resize(img, ( img.shape[1]+1, img.shape[0]+1))\n",
    "    gray = cv2.cvtColor(img, cv2.COLOR_BGR2GRAY)\n",
    "    \n",
    "    # Now we calculate the HOG for negative features\n",
    "    #fd = hog(gray, orientations, pixels_per_cell, cells_per_block, block_norm='L2', feature_vector=True) \n",
    "    fd = hog_cv.compute(gray, winStride=(16,16), padding=(0,0))\n",
    "    #fd = np.expand_dims(fd, axis=0)\n",
    "    #print(fd.shape)\n",
    "    #data_mat = np.vstack([data_mat, fd])\n",
    "    data_mat.append(fd)\n",
    "    \n",
    "trainingData = np.matrix(data_mat, dtype=np.float32)\n",
    "print(trainingData.shape)\n",
    "print(fd.shape)"
   ]
  },
  {
   "cell_type": "code",
   "execution_count": 5,
   "metadata": {},
   "outputs": [],
   "source": [
    "# create labels\n",
    "pos_labels = np.ones((num_pos_samples, 1))\n",
    "neg_labels = np.zeros((num_neg_samples, 1))\n",
    "\n",
    "labels_mat = np.vstack([pos_labels, neg_labels])\n",
    "responses = np.matrix(labels_mat, dtype = np.int32)"
   ]
  },
  {
   "cell_type": "code",
   "execution_count": 6,
   "metadata": {},
   "outputs": [
    {
     "name": "stdout",
     "output_type": "stream",
     "text": [
      "(4086, 756) (4086, 1)\n",
      "(1000, 756) (1000, 1)\n"
     ]
    }
   ],
   "source": [
    "#take some data for testing out of complete data\n",
    "n = 500\n",
    "\n",
    "#test data division\n",
    "testDatapos = trainingData[num_pos_samples-n:num_pos_samples, :]\n",
    "testDataneg = trainingData[num_pos_samples+num_neg_samples-n:num_pos_samples+num_neg_samples, :]\n",
    "testresppos = np.ones((n,1), dtype=np.int32)\n",
    "testrespneg = np.zeros((n,1), dtype=np.int32)\n",
    "testData = np.vstack([testDatapos, testDataneg])\n",
    "testResp = np.vstack([testresppos, testrespneg])\n",
    "\n",
    "#trainData\n",
    "trainDatapos = trainingData[0:num_pos_samples-n, :]\n",
    "trainDataneg = trainingData[num_pos_samples:num_pos_samples+num_neg_samples-n, :]\n",
    "trainingData = np.vstack([trainDatapos, trainDataneg])\n",
    "trainResppos = np.ones((num_pos_samples-n, 1), dtype=np.int32)\n",
    "trainrespneg = np.zeros((num_neg_samples-n, 1), dtype=np.int32)\n",
    "trainResp = np.vstack([trainResppos, trainrespneg])\n",
    "\n",
    "print(trainingData.shape, trainResp.shape)\n",
    "print(testData.shape, testResp.shape)"
   ]
  },
  {
   "cell_type": "code",
   "execution_count": 7,
   "metadata": {},
   "outputs": [
    {
     "data": {
      "text/plain": [
       "True"
      ]
     },
     "execution_count": 7,
     "metadata": {},
     "output_type": "execute_result"
    }
   ],
   "source": [
    "# train svm trainauto (https://docs.opencv.org/3.4/d1/d2d/classcv_1_1ml_1_1SVM.html)\n",
    "# Train the SVM\n",
    "svm = cv2.ml.SVM_create()\n",
    "svm.setType(cv2.ml.SVM_C_SVC)\n",
    "svm.setKernel(cv2.ml.SVM_LINEAR)\n",
    "svm.setTermCriteria((cv2.TERM_CRITERIA_MAX_ITER, 5000, 1e-6))\n",
    "\n",
    "svm.train(trainingData, cv2.ml.ROW_SAMPLE, trainResp)\n",
    "#save the trained coefficients\n",
    "#svm.save(\"svm_pedestrian_detector.xml\")"
   ]
  },
  {
   "cell_type": "code",
   "execution_count": 8,
   "metadata": {},
   "outputs": [],
   "source": [
    "# save the trained SVM model\n",
    "filename = \"hog_svm_pedestrain_detector_opencv_imp.dat\"\n",
    "svm.save(filename)"
   ]
  },
  {
   "cell_type": "code",
   "execution_count": 9,
   "metadata": {},
   "outputs": [
    {
     "name": "stdout",
     "output_type": "stream",
     "text": [
      "<ml_SVM 0x7f5de95f1b90>\n"
     ]
    }
   ],
   "source": [
    "#load svm\n",
    "svm2 = cv2.ml.SVM_load(filename)\n",
    "print(svm2)"
   ]
  },
  {
   "cell_type": "code",
   "execution_count": 10,
   "metadata": {},
   "outputs": [
    {
     "name": "stdout",
     "output_type": "stream",
     "text": [
      "TP:  470 FP:  45 TN:  455 FN:  30 \n",
      "\n",
      "Precision:\t 0.912621359223301\n",
      "Recall:\t\t 0.94\n",
      "F1:\t\t 0.9261083743842364\n",
      "Accuracy:\t 0.925\n",
      "average prediction time 0.10801315307617188\n"
     ]
    }
   ],
   "source": [
    "import time\n",
    "# test\n",
    "TP = 0\n",
    "FP = 0\n",
    "TN = 0\n",
    "FN = 0\n",
    "\n",
    "dura = []\n",
    "for i in range(testData.shape[0]):\n",
    "    st = time.time()\n",
    "    response = svm2.predict(testData[i,:])[1]\n",
    "    dur = time.time()- st\n",
    "    dura.append(dur)\n",
    "\n",
    "    if response[0][0] == testResp[i][0] == 1.0:\n",
    "        TP += 1\n",
    "    if response[0][0] == testResp[i][0] == 0.0:\n",
    "        TN += 1\n",
    "    if response[0][0] != testResp[i][0] == 1.0:\n",
    "        FN += 1\n",
    "    if response[0][0] != testResp[i][0] == 0.0:\n",
    "        FP += 1\n",
    "\n",
    "P = TP/(TP+FP)\n",
    "R = TP/(TP+FN)\n",
    "A = (TP+TN)/(TP+TN+FP+FN)\n",
    "F1 = 2*TP/(2*TP+FP+FN)\n",
    "\n",
    "print(\"TP: \", TP, \"FP: \", FP, \"TN: \", TN, \"FN: \", FN, \"\\n\")\n",
    "print(\"Precision:\\t\", P)\n",
    "print(\"Recall:\\t\\t\", R)\n",
    "print(\"F1:\\t\\t\", F1)\n",
    "print(\"Accuracy:\\t\", A)\n",
    "\n",
    "time_mean = np.mean(dura)\n",
    "print(\"average prediction time\", time_mean*8000)"
   ]
  },
  {
   "cell_type": "code",
   "execution_count": 11,
   "metadata": {},
   "outputs": [],
   "source": [
    "'''vector< float > get_svm_detector( const Ptr< SVM >& svm )\n",
    "{\n",
    "    // get the support vectors\n",
    "    Mat sv = svm->getSupportVectors()\n",
    "    ();\n",
    "    const int sv_total = sv.rows;\n",
    "    // get the decision function\n",
    "    Mat alpha, svidx;\n",
    "    double rho = svm->getDecisionFunction( 0, alpha, svidx );\n",
    "    CV_Assert( alpha.total() == 1 && svidx.total() == 1 && sv_total == 1 );\n",
    "    CV_Assert( (alpha.type() == CV_64F && alpha.at<double>(0) == 1.) ||\n",
    "               (alpha.type() == CV_32F && alpha.at<float>(0) == 1.f) );\n",
    "    CV_Assert( sv.type() == CV_32F );\n",
    "    vector< float > hog_detector( sv.cols + 1 );\n",
    "    memcpy( &hog_detector[0], sv.ptr(), sv.cols*sizeof( hog_detector[0] ) );\n",
    "    hog_detector[sv.cols] = (float)-rho;\n",
    "    return hog_detector;\n",
    "}'''\n",
    "\n",
    "def get_svm_detector(svm):\n",
    "    sv = svm.getSupportVectors()\n",
    "    sv_total = sv.shape[0]\n",
    "    rho, alpha, svidx  = svm.getDecisionFunction(0)\n",
    "    hog_detector = np.ones((sv.shape[1]+1, 1))\n",
    "    hog_detector[:hog_detector.shape[0]-1, :] = np.transpose(sv)\n",
    "    #print(hog_detector.shape, \"jjjjj\")\n",
    "    #print(hog_detector)\n",
    "    hog_detector[sv.shape[1]] == -rho\n",
    "    #print(-rho)\n",
    "    #hog_detector = np.transpose(hog_detector)\n",
    "    #print(hog_detector.shape)\n",
    "    return hog_detector\n"
   ]
  },
  {
   "cell_type": "code",
   "execution_count": 12,
   "metadata": {},
   "outputs": [],
   "source": [
    "# testing on full images from gazebo environment\n",
    "\n",
    "\n",
    "'''\n",
    "winSize = (128,64)\n",
    "blockSize = (32,32)\n",
    "blockStride = (8,8)\n",
    "cellSize = (16,16)\n",
    "nbins = 9\n",
    "derivAperture = 1\n",
    "winSigma = 4.\n",
    "histogramNormType = 0\n",
    "L2HysThreshold = 2.0000000000000001e-01\n",
    "gammaCorrection = 0\n",
    "nlevels = 64\n",
    "\n",
    "hog = cv2.HOGDescriptor(winSize,blockSize,blockStride,cellSize,nbins,derivAperture,winSigma,\n",
    "                        histogramNormType,L2HysThreshold,gammaCorrection,nlevels)\n",
    "'''\n",
    "#HOGCV = cv2.HOGDescriptor()\n",
    "#HOGCV.save(\"hog.xml\")\n",
    "hog_cv.setSVMDetector(get_svm_detector(svm2))"
   ]
  },
  {
   "cell_type": "code",
   "execution_count": 13,
   "metadata": {},
   "outputs": [],
   "source": [
    "def plot_boxes(img, rects):\n",
    "    for rect in rects:\n",
    "        cv2.rectangle(img, (rect[0], rect[1]), (rect[2], rect[3]), color=(0, 0, 255), thickness=2)\n",
    "    return img"
   ]
  },
  {
   "cell_type": "code",
   "execution_count": 18,
   "metadata": {
    "tags": [
     "outputPrepend",
     "outputPrepend",
     "outputPrepend",
     "outputPrepend",
     "outputPrepend"
    ]
   },
   "outputs": [
    {
     "ename": "error",
     "evalue": "OpenCV(4.5.4) /tmp/pip-req-build-c37akgt_/opencv/modules/objdetect/src/hog.cpp:121: error: (-215:Assertion failed) checkDetectorSize() in function 'setSVMDetector'\n",
     "output_type": "error",
     "traceback": [
      "\u001b[0;31m---------------------------------------------------------------------------\u001b[0m",
      "\u001b[0;31merror\u001b[0m                                     Traceback (most recent call last)",
      "\u001b[0;32m<ipython-input-18-3e9e6a65a12d>\u001b[0m in \u001b[0;36m<module>\u001b[0;34m\u001b[0m\n\u001b[1;32m      7\u001b[0m \u001b[0mimgs\u001b[0m\u001b[0;34m.\u001b[0m\u001b[0msort\u001b[0m\u001b[0;34m(\u001b[0m\u001b[0;34m)\u001b[0m\u001b[0;34m\u001b[0m\u001b[0;34m\u001b[0m\u001b[0m\n\u001b[1;32m      8\u001b[0m \u001b[0;34m\u001b[0m\u001b[0m\n\u001b[0;32m----> 9\u001b[0;31m \u001b[0mhog_cv\u001b[0m\u001b[0;34m.\u001b[0m\u001b[0msetSVMDetector\u001b[0m\u001b[0;34m(\u001b[0m\u001b[0mcv2\u001b[0m\u001b[0;34m.\u001b[0m\u001b[0mHOGDescriptor_getDefaultPeopleDetector\u001b[0m\u001b[0;34m(\u001b[0m\u001b[0;34m)\u001b[0m\u001b[0;34m)\u001b[0m\u001b[0;34m\u001b[0m\u001b[0;34m\u001b[0m\u001b[0m\n\u001b[0m\u001b[1;32m     10\u001b[0m \u001b[0;34m\u001b[0m\u001b[0m\n\u001b[1;32m     11\u001b[0m \u001b[0;32mfor\u001b[0m \u001b[0mname\u001b[0m \u001b[0;32min\u001b[0m \u001b[0mimgs\u001b[0m\u001b[0;34m:\u001b[0m\u001b[0;34m\u001b[0m\u001b[0;34m\u001b[0m\u001b[0m\n",
      "\u001b[0;31merror\u001b[0m: OpenCV(4.5.4) /tmp/pip-req-build-c37akgt_/opencv/modules/objdetect/src/hog.cpp:121: error: (-215:Assertion failed) checkDetectorSize() in function 'setSVMDetector'\n"
     ]
    }
   ],
   "source": [
    "import matplotlib.pyplot as plt\n",
    "%matplotlib inline\n",
    "from imutils.object_detection import non_max_suppression\n",
    "\n",
    "img_folder = \"/home/dtu-project2/catkin_ws/src/image_processor/image_database/gazebo_pedestrian_test\"\n",
    "imgs = os.listdir(img_folder)\n",
    "imgs.sort()\n",
    "\n",
    "hog_cv.setSVMDetector(cv2.HOGDescriptor_getDefaultPeopleDetector())\n",
    "print(hog_cv.getDescriptorSize())\n",
    "print(hog_cv.checkDetectorSize())\n",
    "\n",
    "for name in imgs:\n",
    "    st = time.time()\n",
    "    filen = os.path.join(img_folder, name)\n",
    "    img = cv2.imread(filen)\n",
    "    print(img.shape )\n",
    "    if img.shape == (128, 64, 3):\n",
    "        img = cv2.resize(img, (65,129))\n",
    "    img = cv2.cvtColor(img, cv2.COLOR_BGR2RGB)\n",
    "    rects, weights = hog_cv.detectMultiScale(img, winStride=(8, 8), padding=(8, 8), scale=1.1)\n",
    "    print(rects)\n",
    "    rects = np.array([[x, y, x + w, y + h] for (x, y, w, h) in rects])\n",
    "    print(time.time() - st)\n",
    "    st = time.time()\n",
    "    detected_boxes = non_max_suppression(rects, probs=None, overlapThresh=0.65)\n",
    "    #print(detected_boxes)\n",
    "    img = plot_boxes(img, detected_boxes)\n",
    "    plt.figure()\n",
    "    plt.imshow(img)\n",
    "    plt.show()"
   ]
  },
  {
   "cell_type": "code",
   "execution_count": null,
   "metadata": {},
   "outputs": [],
   "source": []
  }
 ],
 "metadata": {
  "kernelspec": {
   "display_name": "Python 3.6.9 64-bit",
   "language": "python",
   "name": "python36964bit0152bc050d9f4815a8f5798501e11854"
  },
  "language_info": {
   "codemirror_mode": {
    "name": "ipython",
    "version": 3
   },
   "file_extension": ".py",
   "mimetype": "text/x-python",
   "name": "python",
   "nbconvert_exporter": "python",
   "pygments_lexer": "ipython3",
   "version": "3.6.9"
  }
 },
 "nbformat": 4,
 "nbformat_minor": 4
}
